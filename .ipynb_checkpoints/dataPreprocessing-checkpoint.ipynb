{
 "cells": [
  {
   "cell_type": "code",
   "execution_count": 1,
   "metadata": {},
   "outputs": [],
   "source": [
    "import pandas as pd\n",
    "\n",
    "df = pd.read_csv(\"D:/.Semester 7/FYP/FYP docx/data_updated.csv\", encoding=\"ISO-8859-1\")"
   ]
  },
  {
   "cell_type": "code",
   "execution_count": 2,
   "metadata": {},
   "outputs": [
    {
     "data": {
      "text/html": [
       "<div>\n",
       "<style scoped>\n",
       "    .dataframe tbody tr th:only-of-type {\n",
       "        vertical-align: middle;\n",
       "    }\n",
       "\n",
       "    .dataframe tbody tr th {\n",
       "        vertical-align: top;\n",
       "    }\n",
       "\n",
       "    .dataframe thead th {\n",
       "        text-align: right;\n",
       "    }\n",
       "</style>\n",
       "<table border=\"1\" class=\"dataframe\">\n",
       "  <thead>\n",
       "    <tr style=\"text-align: right;\">\n",
       "      <th></th>\n",
       "      <th>InvoiceNo</th>\n",
       "      <th>InvoiceDate</th>\n",
       "      <th>CustomerID</th>\n",
       "      <th>Country</th>\n",
       "      <th>UnitPrice</th>\n",
       "    </tr>\n",
       "  </thead>\n",
       "  <tbody>\n",
       "    <tr>\n",
       "      <th>0</th>\n",
       "      <td>536365</td>\n",
       "      <td>12/1/2010 8:26</td>\n",
       "      <td>17850.0</td>\n",
       "      <td>United Kingdom</td>\n",
       "      <td>27.37</td>\n",
       "    </tr>\n",
       "    <tr>\n",
       "      <th>1</th>\n",
       "      <td>536366</td>\n",
       "      <td>12/1/2010 8:28</td>\n",
       "      <td>17850.0</td>\n",
       "      <td>United Kingdom</td>\n",
       "      <td>3.70</td>\n",
       "    </tr>\n",
       "    <tr>\n",
       "      <th>2</th>\n",
       "      <td>536367</td>\n",
       "      <td>12/1/2010 8:34</td>\n",
       "      <td>13047.0</td>\n",
       "      <td>United Kingdom</td>\n",
       "      <td>58.24</td>\n",
       "    </tr>\n",
       "    <tr>\n",
       "      <th>3</th>\n",
       "      <td>536368</td>\n",
       "      <td>12/1/2010 8:34</td>\n",
       "      <td>13047.0</td>\n",
       "      <td>United Kingdom</td>\n",
       "      <td>19.10</td>\n",
       "    </tr>\n",
       "    <tr>\n",
       "      <th>4</th>\n",
       "      <td>536369</td>\n",
       "      <td>12/1/2010 8:35</td>\n",
       "      <td>13047.0</td>\n",
       "      <td>United Kingdom</td>\n",
       "      <td>5.95</td>\n",
       "    </tr>\n",
       "  </tbody>\n",
       "</table>\n",
       "</div>"
      ],
      "text/plain": [
       "  InvoiceNo     InvoiceDate  CustomerID         Country  UnitPrice\n",
       "0    536365  12/1/2010 8:26     17850.0  United Kingdom      27.37\n",
       "1    536366  12/1/2010 8:28     17850.0  United Kingdom       3.70\n",
       "2    536367  12/1/2010 8:34     13047.0  United Kingdom      58.24\n",
       "3    536368  12/1/2010 8:34     13047.0  United Kingdom      19.10\n",
       "4    536369  12/1/2010 8:35     13047.0  United Kingdom       5.95"
      ]
     },
     "execution_count": 2,
     "metadata": {},
     "output_type": "execute_result"
    }
   ],
   "source": [
    "df.head()"
   ]
  },
  {
   "cell_type": "code",
   "execution_count": 3,
   "metadata": {},
   "outputs": [
    {
     "name": "stdout",
     "output_type": "stream",
     "text": [
      "0         536365\n",
      "1         536366\n",
      "2         536367\n",
      "3         536368\n",
      "4         536369\n",
      "5         536370\n",
      "6         536371\n",
      "7         536372\n",
      "8         536373\n",
      "9         536374\n",
      "10        536375\n",
      "11        536376\n",
      "12        536377\n",
      "13        536378\n",
      "14        536380\n",
      "15        536381\n",
      "16        536382\n",
      "17        536384\n",
      "18        536385\n",
      "19        536386\n",
      "20        536387\n",
      "21        536388\n",
      "22        536389\n",
      "23        536390\n",
      "24        536392\n",
      "25        536393\n",
      "26        536394\n",
      "27        536395\n",
      "28        536396\n",
      "29        536397\n",
      "          ...   \n",
      "22191    C581128\n",
      "22192    C581145\n",
      "22193    C581148\n",
      "22194    C581162\n",
      "22195    C581178\n",
      "22196    C581228\n",
      "22197    C581229\n",
      "22198    C581235\n",
      "22199    C581305\n",
      "22200    C581316\n",
      "22201    C581322\n",
      "22202    C581323\n",
      "22203    C581330\n",
      "22204    C581384\n",
      "22205    C581390\n",
      "22206    C581393\n",
      "22207    C581409\n",
      "22208    C581460\n",
      "22209    C581462\n",
      "22210    C581463\n",
      "22211    C581464\n",
      "22212    C581465\n",
      "22213    C581466\n",
      "22214    C581468\n",
      "22215    C581470\n",
      "22216    C581484\n",
      "22217    C581490\n",
      "22218    C581499\n",
      "22219    C581568\n",
      "22220    C581569\n",
      "Name: InvoiceNo, Length: 22221, dtype: object\n"
     ]
    }
   ],
   "source": [
    "if df['InvoiceNo']"
   ]
  },
  {
   "cell_type": "code",
   "execution_count": null,
   "metadata": {},
   "outputs": [],
   "source": []
  }
 ],
 "metadata": {
  "kernelspec": {
   "display_name": "Python 3",
   "language": "python",
   "name": "python3"
  },
  "language_info": {
   "codemirror_mode": {
    "name": "ipython",
    "version": 3
   },
   "file_extension": ".py",
   "mimetype": "text/x-python",
   "name": "python",
   "nbconvert_exporter": "python",
   "pygments_lexer": "ipython3",
   "version": "3.6.8"
  }
 },
 "nbformat": 4,
 "nbformat_minor": 2
}
